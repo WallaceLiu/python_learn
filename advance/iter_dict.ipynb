{
 "cells": [
  {
   "cell_type": "markdown",
   "id": "ce20a553",
   "metadata": {},
   "source": [
    "# iter dict"
   ]
  },
  {
   "cell_type": "code",
   "execution_count": 33,
   "id": "ea5aeb87",
   "metadata": {},
   "outputs": [],
   "source": [
    "d = {'a': 1, 'b': 2, 'c': 3}"
   ]
  },
  {
   "cell_type": "code",
   "execution_count": 34,
   "id": "d4aa9b32",
   "metadata": {},
   "outputs": [
    {
     "name": "stdout",
     "output_type": "stream",
     "text": [
      "iter key: {'a': 1, 'b': 2, 'c': 3}\n",
      "key: a\n",
      "key: b\n",
      "key: c\n"
     ]
    }
   ],
   "source": [
    "# iter each key:\n",
    "print('iter key:', d)\n",
    "for k in d.keys():\n",
    "    print('key:', k)"
   ]
  },
  {
   "cell_type": "code",
   "execution_count": 35,
   "id": "b8142fc5",
   "metadata": {},
   "outputs": [
    {
     "name": "stdout",
     "output_type": "stream",
     "text": [
      "iter value: {'a': 1, 'b': 2, 'c': 3}\n",
      "value: 1\n",
      "value: 2\n",
      "value: 3\n"
     ]
    }
   ],
   "source": [
    "# iter each value:\n",
    "print('iter value:', d)\n",
    "for v in d.values():\n",
    "    print('value:', v)"
   ]
  },
  {
   "cell_type": "code",
   "execution_count": 36,
   "id": "48c214b1",
   "metadata": {},
   "outputs": [
    {
     "name": "stdout",
     "output_type": "stream",
     "text": [
      "iter item: {'a': 1, 'b': 2, 'c': 3}\n",
      "item: a 1\n",
      "item: b 2\n",
      "item: c 3\n"
     ]
    }
   ],
   "source": [
    "# iter both key and value:\n",
    "print('iter item:', d)\n",
    "for k, v in d.items():\n",
    "    print('item:', k, v)"
   ]
  },
  {
   "cell_type": "code",
   "execution_count": null,
   "id": "578c4f26",
   "metadata": {},
   "outputs": [],
   "source": []
  }
 ],
 "metadata": {
  "kernelspec": {
   "display_name": "Python 3",
   "language": "python",
   "name": "python3"
  },
  "language_info": {
   "codemirror_mode": {
    "name": "ipython",
    "version": 3
   },
   "file_extension": ".py",
   "mimetype": "text/x-python",
   "name": "python",
   "nbconvert_exporter": "python",
   "pygments_lexer": "ipython3",
   "version": "3.8.10"
  },
  "toc": {
   "base_numbering": 1,
   "nav_menu": {},
   "number_sections": true,
   "sideBar": true,
   "skip_h1_title": false,
   "title_cell": "Table of Contents",
   "title_sidebar": "Contents",
   "toc_cell": false,
   "toc_position": {},
   "toc_section_display": true,
   "toc_window_display": true
  },
  "varInspector": {
   "cols": {
    "lenName": 16,
    "lenType": 16,
    "lenVar": 40
   },
   "kernels_config": {
    "python": {
     "delete_cmd_postfix": "",
     "delete_cmd_prefix": "del ",
     "library": "var_list.py",
     "varRefreshCmd": "print(var_dic_list())"
    },
    "r": {
     "delete_cmd_postfix": ") ",
     "delete_cmd_prefix": "rm(",
     "library": "var_list.r",
     "varRefreshCmd": "cat(var_dic_list()) "
    }
   },
   "types_to_exclude": [
    "module",
    "function",
    "builtin_function_or_method",
    "instance",
    "_Feature"
   ],
   "window_display": false
  }
 },
 "nbformat": 4,
 "nbformat_minor": 5
}
