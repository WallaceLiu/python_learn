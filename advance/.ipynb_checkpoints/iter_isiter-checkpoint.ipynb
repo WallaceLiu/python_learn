{
 "cells": [
  {
   "cell_type": "code",
   "execution_count": 2,
   "id": "c687f1d3",
   "metadata": {},
   "outputs": [],
   "source": [
    "from collections.abc import Iterable, Iterator\n",
    "\n",
    "\n",
    "def g():\n",
    "    yield 1\n",
    "    yield 2\n",
    "    yield 3"
   ]
  },
  {
   "cell_type": "markdown",
   "id": "dfc1743f",
   "metadata": {},
   "source": [
    "# is Iterable"
   ]
  },
  {
   "cell_type": "code",
   "execution_count": 6,
   "id": "53df53bc",
   "metadata": {},
   "outputs": [
    {
     "name": "stdout",
     "output_type": "stream",
     "text": [
      "Iterable? [1, 2, 3]: True\n",
      "Iterable? 'abc': True\n",
      "Iterable? 123: False\n",
      "Iterable? g(): True\n"
     ]
    }
   ],
   "source": [
    "print('Iterable? [1, 2, 3]:', isinstance([1, 2, 3], Iterable))\n",
    "print('Iterable? \\'abc\\':', isinstance('abc', Iterable))\n",
    "print('Iterable? 123:', isinstance(123, Iterable))\n",
    "print('Iterable? g():', isinstance(g(), Iterable))"
   ]
  },
  {
   "cell_type": "markdown",
   "id": "0d00fe5c",
   "metadata": {},
   "source": [
    "# is Iterator"
   ]
  },
  {
   "cell_type": "code",
   "execution_count": 7,
   "id": "34b5bfcb",
   "metadata": {},
   "outputs": [
    {
     "name": "stdout",
     "output_type": "stream",
     "text": [
      "Iterator? [1, 2, 3]: False\n",
      "Iterator? iter([1, 2, 3]): True\n",
      "Iterator? 'abc': False\n",
      "Iterator? 123: False\n",
      "Iterator? g(): True\n"
     ]
    }
   ],
   "source": [
    "print('Iterator? [1, 2, 3]:', isinstance([1, 2, 3], Iterator))\n",
    "print('Iterator? iter([1, 2, 3]):', isinstance(iter([1, 2, 3]), Iterator))\n",
    "print('Iterator? \\'abc\\':', isinstance('abc', Iterator))\n",
    "print('Iterator? 123:', isinstance(123, Iterator))\n",
    "print('Iterator? g():', isinstance(g(), Iterator))"
   ]
  },
  {
   "cell_type": "code",
   "execution_count": null,
   "id": "ffe93f51",
   "metadata": {},
   "outputs": [],
   "source": []
  }
 ],
 "metadata": {
  "kernelspec": {
   "display_name": "Python 3",
   "language": "python",
   "name": "python3"
  },
  "language_info": {
   "codemirror_mode": {
    "name": "ipython",
    "version": 3
   },
   "file_extension": ".py",
   "mimetype": "text/x-python",
   "name": "python",
   "nbconvert_exporter": "python",
   "pygments_lexer": "ipython3",
   "version": "3.8.10"
  },
  "toc": {
   "base_numbering": 1,
   "nav_menu": {},
   "number_sections": true,
   "sideBar": true,
   "skip_h1_title": false,
   "title_cell": "Table of Contents",
   "title_sidebar": "Contents",
   "toc_cell": false,
   "toc_position": {},
   "toc_section_display": true,
   "toc_window_display": false
  },
  "varInspector": {
   "cols": {
    "lenName": 16,
    "lenType": 16,
    "lenVar": 40
   },
   "kernels_config": {
    "python": {
     "delete_cmd_postfix": "",
     "delete_cmd_prefix": "del ",
     "library": "var_list.py",
     "varRefreshCmd": "print(var_dic_list())"
    },
    "r": {
     "delete_cmd_postfix": ") ",
     "delete_cmd_prefix": "rm(",
     "library": "var_list.r",
     "varRefreshCmd": "cat(var_dic_list()) "
    }
   },
   "types_to_exclude": [
    "module",
    "function",
    "builtin_function_or_method",
    "instance",
    "_Feature"
   ],
   "window_display": false
  }
 },
 "nbformat": 4,
 "nbformat_minor": 5
}
